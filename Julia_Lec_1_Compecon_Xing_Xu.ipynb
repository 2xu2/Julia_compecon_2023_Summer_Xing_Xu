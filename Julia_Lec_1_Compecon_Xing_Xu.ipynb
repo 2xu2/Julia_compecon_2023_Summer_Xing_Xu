{
 "cells": [
  {
   "attachments": {},
   "cell_type": "markdown",
   "metadata": {},
   "source": [
    "## Introduction to Julia on Computational Economics\n",
    "### Xing Xu, University of Minnesota, 2023 Summer"
   ]
  },
  {
   "attachments": {},
   "cell_type": "markdown",
   "metadata": {},
   "source": [
    "## Overview\n",
    "The purpose of the class is to get you familiarize with some basic dynamic programming (DP) problems in economics and train you to be comfortable with coding them in Julia.\n",
    "\n",
    "### Why DP?\n",
    "\n",
    " Dynamic programming is the key to solving modern economic models. Most macro models now are dynamic general equilibrium models. Knowing how to solve recursive models is in additional useful for searching, matching and even game theory (with sequential games). \n",
    "\n",
    " ### Why Julia? \n",
    "\n",
    " Julia is the most modern tool for computations. It preserves the efficiency and clarity of coding while providing astounding speed. For comparison, c++ and Fortran are as fast but coding in them requires a lot more work as basically everything has to be built from scratch. Another extreme is Stata, which is super easy to code in (say, reg y x), but is absurdly slow and extremely limited in its applications (can't even perform DP). \n",
    " \n",
    " Julia reaches a great balance and is perfectly suited for computational economics. You will see its beauty in action once you get comfortable with it.\n",
    "\n",
    "### Background knowledge\n",
    "I will list the backgrounds used that are considered as known. Additional knowledge will be specified when used.\n",
    "\n",
    "Math Preliminaries (undergraduate level knowledge is sufficient):\n",
    "* Linear algebra\n",
    "* Real analysis\n",
    "* Probability theory\n",
    "* Basic understanding of Markov Chains\n",
    "* Knowledge of basic optimization theory will be a plus (Sundaram \\<A First Course in Optimization Theory\\>)\n",
    "\n",
    "Economics:\n",
    "* Basic choice theory (Chapter 2 MWG) (Preferences, utility representation)\n",
    "* Basic consumer theory (Chapter 3 MWG) (Utility maximization)\n",
    "* Basic producer theory (Chapter 5 MWG) \n",
    "* An idea of Competitive Equilibrium and Welfare Theorems (Chapter 10 MWG)\n",
    "\n",
    "Julia (required reading): \n",
    "* Setup of Julia environment, [Quantecon 1](https://julia.quantecon.org/getting_started_julia/getting_started.html#)\n",
    "* Introduction to Julia [Quantecon 2](https://julia.quantecon.org/getting_started_julia/julia_by_example.html)\n",
    "* Julia Essentials [Quantecon 3](https://julia.quantecon.org/getting_started_julia/julia_essentials.html)\n",
    "* Arrays, Tuples, Ranges, and Other Fundamental Types [Quantecon 4](https://julia.quantecon.org/getting_started_julia/fundamental_types.html#)\n",
    "* Basic understanding is good: Introduction to Types and Generic Programming [Quantecon 5](https://julia.quantecon.org/getting_started_julia/introduction_to_types.html)\n",
    "\n",
    "Other good references:\n",
    "\n",
    "Notes: \n",
    "* [Dirk Krueger's Macroeconomic Theory notes](https://perhuaman.files.wordpress.com/2014/06/macrotheory-dirk-krueger.pdf)\n",
    "* [Tim Kehoe's notes on Blackwell sufficient conditions](http://users.econ.umn.edu/~tkehoe/classes/BlackwellsConditions.pdf)\n",
    "\n",
    "Books: \n",
    "* Adda & Cooper \\<Dynamic economics\\> (__strongly recommend__)\n",
    "* Stokey, Lucas with Prescott \\<Recursive methods in economic dynamics\\>\n",
    "* Ljungqvist & Sargent \\<Recursive Macroeconomic Theory\\>\n",
    "* Heer & Maußner [\\<Dynamic General Equilibrium Modeling\\>](https://link.springer.com/book/10.1007/978-3-540-85685-6)\n",
    "* Stachurski [\\<Economic Dynamics: Theory and Computation (Second Edition)\\>](https://johnstachurski.net/edtc)"
   ]
  },
  {
   "attachments": {},
   "cell_type": "markdown",
   "metadata": {},
   "source": [
    "### Syllabus:\n",
    "\n",
    "#### Lecture 1: Julia Fundamentals\n",
    "\n",
    "Assignment 1\n",
    "\n",
    "#### Lecture 2: A canonical Neo-classical growth model and glimpse into value function iteration (VFI)\n",
    "\n",
    "#### Lecture 3: McCall's Job search model\n",
    "\n",
    "#### Lecture 4: Aiyagari with transition dynamics\n",
    "\n",
    "#### Lecture 5: Firm dynamics with an example of exporter dynamics"
   ]
  },
  {
   "attachments": {},
   "cell_type": "markdown",
   "metadata": {},
   "source": [
    "## Lecture 1: Julia Fundamentals\n",
    "\n",
    "This acts as a review for Lecture 1.1 - 1.5 for Julia on Quantecon. I will only focus on stuffs we will use for the following lectures. This lecture accompanies a succinct assignment to get you familiarized with writing in the language and playing with it on the Jupyter Notebook."
   ]
  },
  {
   "attachments": {},
   "cell_type": "markdown",
   "metadata": {},
   "source": [
    "### 1.1 Packages and Projects\n",
    "\n",
    "Working with packages is of vital importance in Julia. We use \"LinearAlgebra\" for matrix operations, \"Statistics\" for different distributions, \"Plots\" for, obviously, plots, etc. One thing you always need to keep in mind is how to download some packages. \n",
    "\n",
    "After downloading the essential packages you need, you have developed something called an \"environment\". For compatibility, version control and reproducibility reasons, one often wants to create individual environments for different files. \"Projects\" manages each individual local environments. It will create a project repository that usually contains a \"Project.toml\", a \"Manifest.toml\" and your code files.\n",
    "\n",
    "### 1.1.1 Packages and Projects using the Pkg API\n",
    "Now what are these exactly? Put this notebook into an individual folder and run the following lines."
   ]
  },
  {
   "cell_type": "code",
   "execution_count": 1,
   "metadata": {},
   "outputs": [],
   "source": [
    "import Pkg"
   ]
  },
  {
   "cell_type": "code",
   "execution_count": 2,
   "metadata": {},
   "outputs": [
    {
     "name": "stderr",
     "output_type": "stream",
     "text": [
      "\u001b[32m\u001b[1m  Activating\u001b[22m\u001b[39m new project at `~/Documents/Teaching/Julia course 2023 Summer/Lec1`\n",
      "\u001b[32m\u001b[1m    Updating\u001b[22m\u001b[39m registry at `~/.julia/registries/General.toml`\n",
      "\u001b[32m\u001b[1m   Resolving\u001b[22m\u001b[39m package versions...\n",
      "\u001b[32m\u001b[1m    Updating\u001b[22m\u001b[39m `~/Documents/Teaching/Julia course 2023 Summer/Lec1/Project.toml`\n",
      " \u001b[90m [37e2e46d] \u001b[39m\u001b[92m+ LinearAlgebra\u001b[39m\n",
      "\u001b[32m\u001b[1m    Updating\u001b[22m\u001b[39m `~/Documents/Teaching/Julia course 2023 Summer/Lec1/Manifest.toml`\n",
      " \u001b[90m [56f22d72] \u001b[39m\u001b[92m+ Artifacts\u001b[39m\n",
      " \u001b[90m [8f399da3] \u001b[39m\u001b[92m+ Libdl\u001b[39m\n",
      " \u001b[90m [37e2e46d] \u001b[39m\u001b[92m+ LinearAlgebra\u001b[39m\n",
      " \u001b[90m [e66e0078] \u001b[39m\u001b[92m+ CompilerSupportLibraries_jll\u001b[39m\n",
      " \u001b[90m [4536629a] \u001b[39m\u001b[92m+ OpenBLAS_jll\u001b[39m\n",
      " \u001b[90m [8e850b90] \u001b[39m\u001b[92m+ libblastrampoline_jll\u001b[39m\n"
     ]
    }
   ],
   "source": [
    "Pkg.activate(@__DIR__)  # Activate a local environment \n",
    "Pkg.add(\"LinearAlgebra\") # add the package \"LinearAlgebra\""
   ]
  },
  {
   "attachments": {},
   "cell_type": "markdown",
   "metadata": {},
   "source": [
    "You should find two extra files in the folder. A \"Project.toml\" and a \"Manifest.toml\". Double click on each of them in the folder or just click on them in the editor in Vscode. Take a look. What are in them?\n",
    "\n",
    "The \"Project.toml\" file contains the name of the package, its unique UUID, its version, the authors and potential dependencies.\n",
    "\n",
    "The \"Manifest.toml\" file shows the information for the resulting dependencies of the added packages.\n",
    "\n",
    "You can check the status of your package using the following code."
   ]
  },
  {
   "cell_type": "code",
   "execution_count": 16,
   "metadata": {},
   "outputs": [
    {
     "name": "stdout",
     "output_type": "stream",
     "text": [
      "\u001b[32m\u001b[1m      Status\u001b[22m\u001b[39m `~/Documents/Teaching/Julia course 2023 Summer/Lec1/Project.toml`\n",
      " \u001b[90m [37e2e46d] \u001b[39mLinearAlgebra\n"
     ]
    }
   ],
   "source": [
    "Pkg.status()"
   ]
  },
  {
   "attachments": {},
   "cell_type": "markdown",
   "metadata": {},
   "source": [
    "Sometimes you want to run other people's code. Say you have stored some people's project into a folder on your laptop (you just need the \"Project.toml\" file). To activate the exact environment, the following code will automatically download all packages and their dependencies of the same version and make it the current environment. "
   ]
  },
  {
   "cell_type": "code",
   "execution_count": 15,
   "metadata": {},
   "outputs": [],
   "source": [
    "Pkg.instantiate()"
   ]
  },
  {
   "attachments": {},
   "cell_type": "markdown",
   "metadata": {},
   "source": [
    "### 1.1.2 Packages and Projects using REPL\n",
    "\n",
    "All the above operations can also be done using REPL (Read-Evaluate-Print-Loop). \n",
    "\n",
    "To activate REPL in Vscode, press `CTRL + Shift + P` in Windows or `CMD + Shift + P` in OS, then type \"start REPL\" in the command palette and click on it. \n",
    "\n",
    "Now the Terminal should pop up and you should see \"julia> \". This indicates we have successfully started the REPL.\n",
    "\n",
    "Next type `]` to enter the package mode. It should write something like \"(Julia course 2023 Summer) pkg>  \". To exit, simply press `delete`. \n",
    "\n",
    "With the package mode, we can perform the same functionality as before and [more](https://pkgdocs.julialang.org/v1/environments/).\n",
    "\n",
    "`activate .` activate the project at the current directory.\n",
    "\n",
    "`st` shows the status.\n",
    "\n",
    "`add LinearAlgebra` add the LinearAlgebra package to the local environment.\n",
    "\n",
    "`instantiate` automatically downloads all the missing dependencies from the particular \"Project.toml\"."
   ]
  },
  {
   "attachments": {},
   "cell_type": "markdown",
   "metadata": {},
   "source": [
    "### 1.2 Introductory example for using packages\n",
    "\n",
    "We will see a lot more packages and their usages along the way. For the moment, I will show some basic functionalities of the LinearAlgebra package as an example. For more information, check [here](https://docs.julialang.org/en/v1/stdlib/LinearAlgebra/).\n",
    "\n",
    "First, you need to call the Package with \"using\"."
   ]
  },
  {
   "cell_type": "code",
   "execution_count": 20,
   "metadata": {},
   "outputs": [],
   "source": [
    "using LinearAlgebra"
   ]
  },
  {
   "attachments": {},
   "cell_type": "markdown",
   "metadata": {},
   "source": [
    "Define a matrix:"
   ]
  },
  {
   "cell_type": "code",
   "execution_count": 21,
   "metadata": {},
   "outputs": [
    {
     "data": {
      "text/plain": [
       "3×3 Matrix{Int64}:\n",
       " 1  2  3\n",
       " 4  5  6\n",
       " 7  8  9"
      ]
     },
     "metadata": {},
     "output_type": "display_data"
    }
   ],
   "source": [
    "A = [1 2 3; 4 5 6; 7 8 9]"
   ]
  },
  {
   "attachments": {},
   "cell_type": "markdown",
   "metadata": {},
   "source": [
    "A couple things you can do. The codes explain themselves."
   ]
  },
  {
   "cell_type": "code",
   "execution_count": 23,
   "metadata": {},
   "outputs": [
    {
     "data": {
      "text/plain": [
       "15"
      ]
     },
     "metadata": {},
     "output_type": "display_data"
    }
   ],
   "source": [
    "tr(A)"
   ]
  },
  {
   "cell_type": "code",
   "execution_count": 25,
   "metadata": {},
   "outputs": [
    {
     "data": {
      "text/plain": [
       "-9.516197353929915e-16"
      ]
     },
     "metadata": {},
     "output_type": "display_data"
    }
   ],
   "source": [
    "det(A)"
   ]
  },
  {
   "cell_type": "code",
   "execution_count": 26,
   "metadata": {},
   "outputs": [
    {
     "data": {
      "text/plain": [
       "3×3 Matrix{Float64}:\n",
       "  3.15252e15  -6.30504e15   3.15252e15\n",
       " -6.30504e15   1.26101e16  -6.30504e15\n",
       "  3.15252e15  -6.30504e15   3.15252e15"
      ]
     },
     "metadata": {},
     "output_type": "display_data"
    }
   ],
   "source": [
    "inv(A)"
   ]
  },
  {
   "cell_type": "code",
   "execution_count": 27,
   "metadata": {},
   "outputs": [
    {
     "data": {
      "text/plain": [
       "3-element Vector{Float64}:\n",
       " -1.1168439698070434\n",
       " -8.582743335036247e-16\n",
       " 16.11684396980703"
      ]
     },
     "metadata": {},
     "output_type": "display_data"
    }
   ],
   "source": [
    "eigvals(A)"
   ]
  },
  {
   "cell_type": "code",
   "execution_count": 28,
   "metadata": {},
   "outputs": [
    {
     "data": {
      "text/plain": [
       "3×3 Matrix{Float64}:\n",
       " -0.78583     0.408248  -0.231971\n",
       " -0.0867513  -0.816497  -0.525322\n",
       "  0.612328    0.408248  -0.818673"
      ]
     },
     "metadata": {},
     "output_type": "display_data"
    }
   ],
   "source": [
    "eigvecs(A)"
   ]
  },
  {
   "attachments": {},
   "cell_type": "markdown",
   "metadata": {},
   "source": [
    "`I` represents an identity matrix of any size. For example,\n"
   ]
  },
  {
   "cell_type": "code",
   "execution_count": 36,
   "metadata": {},
   "outputs": [
    {
     "data": {
      "text/plain": [
       "3×3 Matrix{Int64}:\n",
       " 1  2  3\n",
       " 4  5  6\n",
       " 7  8  9"
      ]
     },
     "metadata": {},
     "output_type": "display_data"
    }
   ],
   "source": [
    "A * I"
   ]
  },
  {
   "attachments": {},
   "cell_type": "markdown",
   "metadata": {},
   "source": [
    "The dot product can also be calculated."
   ]
  },
  {
   "cell_type": "code",
   "execution_count": 56,
   "metadata": {},
   "outputs": [
    {
     "data": {
      "text/plain": [
       "15"
      ]
     },
     "metadata": {},
     "output_type": "display_data"
    }
   ],
   "source": [
    "dot(A, I) # Same as tr(A)"
   ]
  },
  {
   "cell_type": "code",
   "execution_count": 57,
   "metadata": {},
   "outputs": [
    {
     "data": {
      "text/plain": [
       "15"
      ]
     },
     "metadata": {},
     "output_type": "display_data"
    }
   ],
   "source": [
    "A ⋅ I\n",
    "#⋅ is typed by \"\\cdot\" then press \"tab\""
   ]
  },
  {
   "attachments": {},
   "cell_type": "markdown",
   "metadata": {},
   "source": [
    "A\\B solves Ax = B. Note that this is strictly preferred to inv(A)*B. Never do the latter."
   ]
  },
  {
   "cell_type": "code",
   "execution_count": 39,
   "metadata": {},
   "outputs": [
    {
     "data": {
      "text/plain": [
       "3-element Vector{Float64}:\n",
       " -0.23333333333333334\n",
       "  0.46666666666666673\n",
       "  0.09999999999999994"
      ]
     },
     "metadata": {},
     "output_type": "display_data"
    }
   ],
   "source": [
    "B = [1, 2, 3]\n",
    "A\\B\n",
    "# or B/A"
   ]
  },
  {
   "attachments": {},
   "cell_type": "markdown",
   "metadata": {},
   "source": [
    "Element-wise operations are done through `.` (more discussions on this next lecture)."
   ]
  },
  {
   "cell_type": "code",
   "execution_count": 53,
   "metadata": {},
   "outputs": [
    {
     "data": {
      "text/plain": [
       "3×3 Matrix{Int64}:\n",
       "  4   5   6\n",
       "  7   8   9\n",
       " 10  11  12"
      ]
     },
     "metadata": {},
     "output_type": "display_data"
    }
   ],
   "source": [
    "A .+ 3"
   ]
  },
  {
   "attachments": {},
   "cell_type": "markdown",
   "metadata": {},
   "source": [
    "You can also perform factorizations on the matrices."
   ]
  },
  {
   "cell_type": "code",
   "execution_count": 43,
   "metadata": {},
   "outputs": [
    {
     "data": {
      "text/plain": [
       "LU{Float64, Matrix{Float64}}\n",
       "L factor:\n",
       "3×3 Matrix{Float64}:\n",
       " 1.0       0.0  0.0\n",
       " 0.142857  1.0  0.0\n",
       " 0.571429  0.5  1.0\n",
       "U factor:\n",
       "3×3 Matrix{Float64}:\n",
       " 7.0  8.0        9.0\n",
       " 0.0  0.857143   1.71429\n",
       " 0.0  0.0       -1.58603e-16"
      ]
     },
     "metadata": {},
     "output_type": "display_data"
    }
   ],
   "source": [
    "lu(A)"
   ]
  },
  {
   "cell_type": "code",
   "execution_count": 44,
   "metadata": {},
   "outputs": [
    {
     "data": {
      "text/plain": [
       "LinearAlgebra.QRCompactWY{Float64, Matrix{Float64}}\n",
       "Q factor:\n",
       "3×3 LinearAlgebra.QRCompactWYQ{Float64, Matrix{Float64}}:\n",
       " -0.123091   0.904534   0.408248\n",
       " -0.492366   0.301511  -0.816497\n",
       " -0.86164   -0.301511   0.408248\n",
       "R factor:\n",
       "3×3 Matrix{Float64}:\n",
       " -8.12404  -9.60114   -11.0782\n",
       "  0.0       0.904534    1.80907\n",
       "  0.0       0.0        -8.88178e-16"
      ]
     },
     "metadata": {},
     "output_type": "display_data"
    }
   ],
   "source": [
    "qr(A)"
   ]
  },
  {
   "cell_type": "code",
   "execution_count": 46,
   "metadata": {},
   "outputs": [
    {
     "ename": "PosDefException",
     "evalue": "PosDefException: matrix is not Hermitian; Cholesky factorization failed.",
     "output_type": "error",
     "traceback": [
      "PosDefException: matrix is not Hermitian; Cholesky factorization failed.\n",
      "\n",
      "Stacktrace:\n",
      " [1] checkpositivedefinite(info::Int64)\n",
      "   @ LinearAlgebra /Applications/Julia-1.7.app/Contents/Resources/julia/share/julia/stdlib/v1.7/LinearAlgebra/src/factorization.jl:18\n",
      " [2] cholesky!(A::Matrix{Float64}, ::Val{false}; check::Bool)\n",
      "   @ LinearAlgebra /Applications/Julia-1.7.app/Contents/Resources/julia/share/julia/stdlib/v1.7/LinearAlgebra/src/cholesky.jl:295\n",
      " [3] #cholesky#143\n",
      "   @ /Applications/Julia-1.7.app/Contents/Resources/julia/share/julia/stdlib/v1.7/LinearAlgebra/src/cholesky.jl:394 [inlined]\n",
      " [4] cholesky (repeats 2 times)\n",
      "   @ /Applications/Julia-1.7.app/Contents/Resources/julia/share/julia/stdlib/v1.7/LinearAlgebra/src/cholesky.jl:394 [inlined]\n",
      " [5] top-level scope\n",
      "   @ ~/Documents/Teaching/Julia course 2023 Summer/Lec1/Julia_Lec_1_Compecon_XIng_Xu.ipynb:2"
     ]
    }
   ],
   "source": [
    "# Cholesky decomposition doesn't work here, which creates an error\n",
    "cholesky(A)"
   ]
  },
  {
   "attachments": {},
   "cell_type": "markdown",
   "metadata": {},
   "source": [
    "Not surprisingly, we can also do vector operations."
   ]
  },
  {
   "cell_type": "code",
   "execution_count": 48,
   "metadata": {},
   "outputs": [
    {
     "data": {
      "text/plain": [
       "3-element Vector{Int64}:\n",
       " 2\n",
       " 2\n",
       " 3"
      ]
     },
     "metadata": {},
     "output_type": "display_data"
    }
   ],
   "source": [
    "v1 = [1, 1, 3]\n",
    "v2 = [2, 2, 3]"
   ]
  },
  {
   "cell_type": "code",
   "execution_count": 61,
   "metadata": {},
   "outputs": [
    {
     "data": {
      "text/plain": [
       "3-element Vector{Int64}:\n",
       " 3\n",
       " 3\n",
       " 6"
      ]
     },
     "metadata": {},
     "output_type": "display_data"
    }
   ],
   "source": [
    "v1 + v2 \n",
    "# same as v1 .+ v2"
   ]
  },
  {
   "attachments": {},
   "cell_type": "markdown",
   "metadata": {},
   "source": [
    "Dot products for vectors are same as for matrices, except for vectors we can simply do:"
   ]
  },
  {
   "cell_type": "code",
   "execution_count": 62,
   "metadata": {},
   "outputs": [
    {
     "data": {
      "text/plain": [
       "13"
      ]
     },
     "metadata": {},
     "output_type": "display_data"
    }
   ],
   "source": [
    "v1' * v2 #' for transpose"
   ]
  },
  {
   "cell_type": "code",
   "execution_count": 64,
   "metadata": {},
   "outputs": [
    {
     "data": {
      "text/plain": [
       "13"
      ]
     },
     "metadata": {},
     "output_type": "display_data"
    }
   ],
   "source": [
    "dot(v1, v2)"
   ]
  },
  {
   "cell_type": "code",
   "execution_count": 65,
   "metadata": {},
   "outputs": [
    {
     "data": {
      "text/plain": [
       "13"
      ]
     },
     "metadata": {},
     "output_type": "display_data"
    }
   ],
   "source": [
    "v1 ⋅ v2"
   ]
  },
  {
   "cell_type": "code",
   "execution_count": 82,
   "metadata": {},
   "outputs": [],
   "source": []
  },
  {
   "attachments": {},
   "cell_type": "markdown",
   "metadata": {},
   "source": [
    "### 1.2 Functions\n",
    "In Julia functions can be built in line or specifically calling `function`. "
   ]
  },
  {
   "cell_type": "code",
   "execution_count": 128,
   "metadata": {},
   "outputs": [
    {
     "data": {
      "text/plain": [
       "4"
      ]
     },
     "metadata": {},
     "output_type": "display_data"
    }
   ],
   "source": [
    "f(x, y) =  x^y\n",
    "f(2,2)"
   ]
  },
  {
   "cell_type": "code",
   "execution_count": 129,
   "metadata": {},
   "outputs": [
    {
     "data": {
      "text/plain": [
       "4"
      ]
     },
     "metadata": {},
     "output_type": "display_data"
    }
   ],
   "source": [
    "#Or\n",
    "function f(x, y)\n",
    "    return x^y\n",
    "end\n",
    "f(2,2)"
   ]
  },
  {
   "attachments": {},
   "cell_type": "markdown",
   "metadata": {},
   "source": [
    "If you want to input an array into f, it gives an error as it is not clear what you mean."
   ]
  },
  {
   "cell_type": "code",
   "execution_count": 130,
   "metadata": {},
   "outputs": [
    {
     "ename": "MethodError",
     "evalue": "MethodError: no method matching ^(::Vector{Int64}, ::Int64)\nClosest candidates are:\n  ^(!Matched::Union{AbstractChar, AbstractString}, ::Integer) at /Applications/Julia-1.7.app/Contents/Resources/julia/share/julia/base/strings/basic.jl:721\n  ^(!Matched::Diagonal, ::Integer) at /Applications/Julia-1.7.app/Contents/Resources/julia/share/julia/stdlib/v1.7/LinearAlgebra/src/diagonal.jl:196\n  ^(!Matched::Diagonal, ::Real) at /Applications/Julia-1.7.app/Contents/Resources/julia/share/julia/stdlib/v1.7/LinearAlgebra/src/diagonal.jl:195\n  ...",
     "output_type": "error",
     "traceback": [
      "MethodError: no method matching ^(::Vector{Int64}, ::Int64)\n",
      "Closest candidates are:\n",
      "  ^(!Matched::Union{AbstractChar, AbstractString}, ::Integer) at /Applications/Julia-1.7.app/Contents/Resources/julia/share/julia/base/strings/basic.jl:721\n",
      "  ^(!Matched::Diagonal, ::Integer) at /Applications/Julia-1.7.app/Contents/Resources/julia/share/julia/stdlib/v1.7/LinearAlgebra/src/diagonal.jl:196\n",
      "  ^(!Matched::Diagonal, ::Real) at /Applications/Julia-1.7.app/Contents/Resources/julia/share/julia/stdlib/v1.7/LinearAlgebra/src/diagonal.jl:195\n",
      "  ...\n",
      "\n",
      "Stacktrace:\n",
      " [1] f(x::Vector{Int64}, y::Int64)\n",
      "   @ Main ~/Documents/Teaching/Julia course 2023 Summer/Lec1/Julia_Lec_1_Compecon_XIng_Xu.ipynb:3\n",
      " [2] top-level scope\n",
      "   @ ~/Documents/Teaching/Julia course 2023 Summer/Lec1/Julia_Lec_1_Compecon_XIng_Xu.ipynb:2"
     ]
    }
   ],
   "source": [
    "v1 = [1, 2, 3]\n",
    "f(v1, 2)"
   ]
  },
  {
   "attachments": {},
   "cell_type": "markdown",
   "metadata": {},
   "source": [
    "You can modify this by defining the function specifically for vectors."
   ]
  },
  {
   "cell_type": "code",
   "execution_count": 133,
   "metadata": {},
   "outputs": [
    {
     "name": "stdout",
     "output_type": "stream",
     "text": [
      "g(v1, 2) = [1, 4, 9]\n"
     ]
    },
    {
     "data": {
      "text/plain": [
       "3-element Vector{Int64}:\n",
       " 1\n",
       " 4\n",
       " 9"
      ]
     },
     "metadata": {},
     "output_type": "display_data"
    }
   ],
   "source": [
    "function g(x,y)\n",
    "    z = similar(x) # similar() generates an size/matrix of the same size and type as the input\n",
    "    for i in eachindex(x)\n",
    "        z[i] = x[i]^y\n",
    "    end\n",
    "    return z\n",
    "end\n",
    "@show g(v1, 2)"
   ]
  },
  {
   "attachments": {},
   "cell_type": "markdown",
   "metadata": {},
   "source": [
    "Or in a more concise fashion,"
   ]
  },
  {
   "cell_type": "code",
   "execution_count": 150,
   "metadata": {},
   "outputs": [
    {
     "data": {
      "text/plain": [
       "3-element Vector{Int64}:\n",
       " 1\n",
       " 4\n",
       " 9"
      ]
     },
     "metadata": {},
     "output_type": "display_data"
    }
   ],
   "source": [
    "g(x,y) = [z^y for z in x] # or g(x,y) = [x[i]^y for i in eachindex(x)]\n",
    "g(v1, 2)"
   ]
  },
  {
   "attachments": {},
   "cell_type": "markdown",
   "metadata": {},
   "source": [
    "Instead, you can also apply \".\" to broadcast the function onto every element of v1. This comes very handy in a lot of cases."
   ]
  },
  {
   "cell_type": "code",
   "execution_count": 137,
   "metadata": {},
   "outputs": [
    {
     "data": {
      "text/plain": [
       "3-element Vector{Int64}:\n",
       " 1\n",
       " 4\n",
       " 9"
      ]
     },
     "metadata": {},
     "output_type": "display_data"
    }
   ],
   "source": [
    "f(x, y) =  x^y\n",
    "f.(v1, 2)\n",
    "# should write f.(v1, Ref(2)) for rigidity. You can think of Ref() as fixing the input here."
   ]
  },
  {
   "attachments": {},
   "cell_type": "markdown",
   "metadata": {},
   "source": [
    "### 1.3 Types (a short summary)\n",
    "\n",
    "Types are *incredibly important* for coding in Julia. It matters for the correctness, consistency and efficiency of the codes.  However, my past experience told me that it is almost impossible to learn this from pure memorization. You have to actually work with them and think along the way. Here I will just let you see some commonly used types and give a simple example about declaration of types.\n",
    "\n",
    "For more info on types, check the [documentation](https://docs.julialang.org/en/v1/manual/types/)."
   ]
  },
  {
   "attachments": {},
   "cell_type": "markdown",
   "metadata": {},
   "source": [
    "The default type for (simple) integers is Int64"
   ]
  },
  {
   "cell_type": "code",
   "execution_count": 75,
   "metadata": {},
   "outputs": [
    {
     "name": "stdout",
     "output_type": "stream",
     "text": [
      "typeof(1) = Int64\n"
     ]
    },
    {
     "data": {
      "text/plain": [
       "Int64"
      ]
     },
     "metadata": {},
     "output_type": "display_data"
    }
   ],
   "source": [
    "@show typeof(1)"
   ]
  },
  {
   "attachments": {},
   "cell_type": "markdown",
   "metadata": {},
   "source": [
    "The default type for (simple) floats is Float64"
   ]
  },
  {
   "cell_type": "code",
   "execution_count": 88,
   "metadata": {},
   "outputs": [
    {
     "name": "stdout",
     "output_type": "stream",
     "text": [
      "typeof(1.0) = Float64\n"
     ]
    },
    {
     "data": {
      "text/plain": [
       "Float64"
      ]
     },
     "metadata": {},
     "output_type": "display_data"
    }
   ],
   "source": [
    "@show typeof(1.0) #putting \".0\" after 1 make the Julia compiler infer it is a float"
   ]
  },
  {
   "attachments": {},
   "cell_type": "markdown",
   "metadata": {},
   "source": [
    "The default type for strings is String"
   ]
  },
  {
   "cell_type": "code",
   "execution_count": 185,
   "metadata": {},
   "outputs": [
    {
     "name": "stdout",
     "output_type": "stream",
     "text": [
      "typeof(\"string\") = String\n"
     ]
    },
    {
     "data": {
      "text/plain": [
       "String"
      ]
     },
     "metadata": {},
     "output_type": "display_data"
    }
   ],
   "source": [
    "@show typeof(\"string\")"
   ]
  },
  {
   "attachments": {},
   "cell_type": "markdown",
   "metadata": {},
   "source": [
    "Type of Boolean (true of false) variables."
   ]
  },
  {
   "cell_type": "code",
   "execution_count": 89,
   "metadata": {},
   "outputs": [
    {
     "name": "stdout",
     "output_type": "stream",
     "text": [
      "typeof(true) = Bool\n",
      "typeof(false) = Bool\n"
     ]
    },
    {
     "data": {
      "text/plain": [
       "Bool"
      ]
     },
     "metadata": {},
     "output_type": "display_data"
    }
   ],
   "source": [
    "@show typeof(true)\n",
    "@show typeof(false)"
   ]
  },
  {
   "cell_type": "code",
   "execution_count": 94,
   "metadata": {},
   "outputs": [
    {
     "name": "stdout",
     "output_type": "stream",
     "text": [
      "true == 1 = true\n",
      "false == 0 = true\n"
     ]
    },
    {
     "data": {
      "text/plain": [
       "true"
      ]
     },
     "metadata": {},
     "output_type": "display_data"
    }
   ],
   "source": [
    "# Note that sometimes we use the feature that true is 1 and false is 0\n",
    "@show true == 1\n",
    "@show false == 0"
   ]
  },
  {
   "attachments": {},
   "cell_type": "markdown",
   "metadata": {},
   "source": [
    "What are the type of arrays?"
   ]
  },
  {
   "cell_type": "code",
   "execution_count": 99,
   "metadata": {},
   "outputs": [
    {
     "name": "stdout",
     "output_type": "stream",
     "text": [
      "typeof([1, 2, 3]) = Vector{Int64}\n"
     ]
    },
    {
     "data": {
      "text/plain": [
       "Vector{Int64} (alias for Array{Int64, 1})"
      ]
     },
     "metadata": {},
     "output_type": "display_data"
    }
   ],
   "source": [
    "@show typeof([1, 2, 3])\n"
   ]
  },
  {
   "cell_type": "code",
   "execution_count": 101,
   "metadata": {},
   "outputs": [
    {
     "name": "stdout",
     "output_type": "stream",
     "text": [
      "typeof([1.0, 2.0, 3.0]) = Vector{Float64}\n"
     ]
    },
    {
     "data": {
      "text/plain": [
       "Vector{Float64} (alias for Array{Float64, 1})"
      ]
     },
     "metadata": {},
     "output_type": "display_data"
    }
   ],
   "source": [
    "@show typeof([1.0, 2.0, 3.0])"
   ]
  },
  {
   "attachments": {},
   "cell_type": "markdown",
   "metadata": {},
   "source": [
    "How about the type of [1, 2.0, 3.0], where the first entry is an integer?"
   ]
  },
  {
   "cell_type": "code",
   "execution_count": 102,
   "metadata": {},
   "outputs": [
    {
     "name": "stdout",
     "output_type": "stream",
     "text": [
      "typeof([1, 2.0, 3.0]) = Vector{Float64}\n"
     ]
    },
    {
     "data": {
      "text/plain": [
       "Vector{Float64} (alias for Array{Float64, 1})"
      ]
     },
     "metadata": {},
     "output_type": "display_data"
    }
   ],
   "source": [
    "@show typeof([1, 2.0, 3.0])"
   ]
  },
  {
   "attachments": {},
   "cell_type": "markdown",
   "metadata": {},
   "source": [
    "Note that it returns a vector of floats. This is subtle but keep in mind that sometimes these inconsistencies can create problems. This also indicates that the type within an array is unified, to find the type of the elements in an array. We commonly use the following `eltype()`."
   ]
  },
  {
   "cell_type": "code",
   "execution_count": 147,
   "metadata": {},
   "outputs": [
    {
     "name": "stdout",
     "output_type": "stream",
     "text": [
      "eltype([1.0, 2.0, 3.0]) = Float64\n"
     ]
    },
    {
     "data": {
      "text/plain": [
       "Float64"
      ]
     },
     "metadata": {},
     "output_type": "display_data"
    }
   ],
   "source": [
    "@show eltype([1.0, 2.0, 3.0])\n",
    "# differentiate with typeof([1.0, 2.0, 3.0])"
   ]
  },
  {
   "attachments": {},
   "cell_type": "markdown",
   "metadata": {},
   "source": [
    "Tuples are constructed using small brackets. We can also check the type of a tuple, which is different from the behavior of an array (vector)."
   ]
  },
  {
   "cell_type": "code",
   "execution_count": 105,
   "metadata": {},
   "outputs": [
    {
     "name": "stdout",
     "output_type": "stream",
     "text": [
      "typeof((1, 2.0, 3.0, \"string\")) = Tuple{Int64, Float64, Float64, String}\n"
     ]
    },
    {
     "data": {
      "text/plain": [
       "Tuple{Int64, Float64, Float64, String}"
      ]
     },
     "metadata": {},
     "output_type": "display_data"
    }
   ],
   "source": [
    "@show typeof((1, 2.0, 3.0, \"string\"))"
   ]
  },
  {
   "attachments": {},
   "cell_type": "markdown",
   "metadata": {},
   "source": [
    "Now let's look at the function in 1.2 again, which is"
   ]
  },
  {
   "cell_type": "code",
   "execution_count": 109,
   "metadata": {},
   "outputs": [
    {
     "data": {
      "text/plain": [
       "4"
      ]
     },
     "metadata": {},
     "output_type": "display_data"
    }
   ],
   "source": [
    "function g(x,y)\n",
    "    z = similar(x)\n",
    "    for i in eachindex(x)\n",
    "        z[i] = x[i]^y\n",
    "    end\n",
    "    return z\n",
    "end\n",
    "@show g(v1, 2)"
   ]
  },
  {
   "attachments": {},
   "cell_type": "markdown",
   "metadata": {},
   "source": [
    "In practice, sometimes we want to specify the types of inputs, which can be down using `::`. "
   ]
  },
  {
   "cell_type": "code",
   "execution_count": 160,
   "metadata": {},
   "outputs": [
    {
     "name": "stdout",
     "output_type": "stream",
     "text": [
      "g(v1, 2) = [1, 4, 9]\n"
     ]
    },
    {
     "data": {
      "text/plain": [
       "3-element Vector{Int64}:\n",
       " 1\n",
       " 4\n",
       " 9"
      ]
     },
     "metadata": {},
     "output_type": "display_data"
    }
   ],
   "source": [
    "function g(x :: Vector{Int64},y :: Int64)\n",
    "    z = similar(x)\n",
    "    for i in eachindex(x)\n",
    "        z[i] = x[i]^y\n",
    "    end\n",
    "    return z\n",
    "end\n",
    "@show g(v1, 2)"
   ]
  },
  {
   "attachments": {},
   "cell_type": "markdown",
   "metadata": {},
   "source": [
    "However this sometimes creates confusions. We can input a matrix or a float and still get out results:"
   ]
  },
  {
   "cell_type": "code",
   "execution_count": 170,
   "metadata": {},
   "outputs": [
    {
     "data": {
      "text/plain": [
       "2×2 Matrix{Int64}:\n",
       " 4  4\n",
       " 4  4"
      ]
     },
     "metadata": {},
     "output_type": "display_data"
    }
   ],
   "source": [
    "m1 = [2 2; 2 2]\n",
    "g(m1, 2)"
   ]
  },
  {
   "cell_type": "code",
   "execution_count": 174,
   "metadata": {},
   "outputs": [
    {
     "data": {
      "text/plain": [
       "0-dimensional Array{Float64, 0}:\n",
       "4.0"
      ]
     },
     "metadata": {},
     "output_type": "display_data"
    }
   ],
   "source": [
    "g(2.0, 2) # Note that 2.0 is not even technically a vector and the output becomes 0-dimensional Array"
   ]
  },
  {
   "attachments": {},
   "cell_type": "markdown",
   "metadata": {},
   "source": [
    "This is why Quantecon stresses the importance for generic programming. See [Quantecon 5](https://julia.quantecon.org/getting_started_julia/introduction_to_types.html#) and [Quantecon 6](https://julia.quantecon.org/more_julia/generic_programming.html) for details. In short, you should avoid specifying particular types in many cases and let your codes be compatible with different types.\n",
    "\n",
    "One example is when you want to create a vector of 0 with length 5. It is tempted to use the built-in function `zeros(5)`. Beware that this implicitly imposes that 0s are of type float."
   ]
  },
  {
   "cell_type": "code",
   "execution_count": 177,
   "metadata": {},
   "outputs": [
    {
     "name": "stdout",
     "output_type": "stream",
     "text": [
      "eltype(zeros(5)) = Float64\n"
     ]
    },
    {
     "data": {
      "text/plain": [
       "Float64"
      ]
     },
     "metadata": {},
     "output_type": "display_data"
    }
   ],
   "source": [
    "@show eltype(zeros(5))"
   ]
  },
  {
   "attachments": {},
   "cell_type": "markdown",
   "metadata": {},
   "source": [
    "Suppose you want the zeros with type int, one way is to use `Int()`. Again you need to broadcast it to each element."
   ]
  },
  {
   "cell_type": "code",
   "execution_count": 181,
   "metadata": {},
   "outputs": [
    {
     "data": {
      "text/plain": [
       "5-element Vector{Int64}:\n",
       " 0\n",
       " 0\n",
       " 0\n",
       " 0\n",
       " 0"
      ]
     },
     "metadata": {},
     "output_type": "display_data"
    }
   ],
   "source": [
    "Int.(zeros(5))"
   ]
  },
  {
   "attachments": {},
   "cell_type": "markdown",
   "metadata": {},
   "source": [
    "Or you can simply declare within `zeros()`."
   ]
  },
  {
   "cell_type": "code",
   "execution_count": 184,
   "metadata": {},
   "outputs": [
    {
     "data": {
      "text/plain": [
       "5-element Vector{Int64}:\n",
       " 0\n",
       " 0\n",
       " 0\n",
       " 0\n",
       " 0"
      ]
     },
     "metadata": {},
     "output_type": "display_data"
    }
   ],
   "source": [
    "zeros(Int,5)"
   ]
  },
  {
   "cell_type": "code",
   "execution_count": null,
   "metadata": {},
   "outputs": [],
   "source": []
  },
  {
   "attachments": {},
   "cell_type": "markdown",
   "metadata": {},
   "source": [
    "### 1.4 Help?\n",
    "\n",
    "How do you know you can do something as `zeros(Int,5)`? For most built-in functions, you can find it using Help from the REPL.\n",
    "\n",
    "If you haven't quitted Vscode, you are probably still in REPL from 1.1.\n",
    "\n",
    "If you have, press `CTRL + Shift + P` in Windows or `CMD + Shift + P` in OS, then type \"start REPL\" in the command palette and click on it. You should again see \"julia> \", which indicates you are at REPL.\n",
    "\n",
    "Now simply typing `?` enters into the help mode. You should see \"help?> \". Let's try with the function `zeros()`. Type in the `zeros` or `zeros()` and press `Return` on your keyboard. You should see it shows the first input of function is \"[T=Float64,]\", so unless otherwise specified, `zeros()` will generate an array with type \"Float64\". \n",
    "\n",
    "Help? is usually the first place to go if you encounter some built-in functions that you are not sure with. As we go, you will be introduced to a lot more of them."
   ]
  },
  {
   "attachments": {},
   "cell_type": "markdown",
   "metadata": {},
   "source": []
  },
  {
   "attachments": {},
   "cell_type": "markdown",
   "metadata": {},
   "source": [
    "### 1.5 Macros (not Macroeconomics)\n",
    "\n",
    "Macros are a powerful tool in Julia. Macros are a type of [metaprogramming](https://docs.julialang.org/en/v1/manual/metaprogramming/) (whatever this means). Just keep in mind that Macros start with an `@` and take in general expressions instead of values as inputs. You can also check with help? for documentation of each Macro.\n",
    "\n",
    "I know it sounds a little absurd but knowing Macros well is a ticket to becoming a Julia master. For the moment, knowing a couple examples is sufficient."
   ]
  },
  {
   "attachments": {},
   "cell_type": "markdown",
   "metadata": {},
   "source": [
    "We have used `@show` to show the output of a function. However, note that the inputs it can take is much more general. Say, it can take in the function itself. "
   ]
  },
  {
   "cell_type": "code",
   "execution_count": 190,
   "metadata": {},
   "outputs": [
    {
     "name": "stdout",
     "output_type": "stream",
     "text": [
      "f = f\n"
     ]
    },
    {
     "data": {
      "text/plain": [
       "f (generic function with 4 methods)"
      ]
     },
     "metadata": {},
     "output_type": "display_data"
    }
   ],
   "source": [
    "@show f"
   ]
  },
  {
   "cell_type": "code",
   "execution_count": 196,
   "metadata": {},
   "outputs": [
    {
     "name": "stdout",
     "output_type": "stream",
     "text": [
      "f(1, 2) = 1\n"
     ]
    },
    {
     "data": {
      "text/plain": [
       "1"
      ]
     },
     "metadata": {},
     "output_type": "display_data"
    }
   ],
   "source": [
    "@show f(1,2)"
   ]
  },
  {
   "attachments": {},
   "cell_type": "markdown",
   "metadata": {},
   "source": [
    "`@time begin ... end` works like `tic ... tok` in Matlab. It gives the duration of running the code between.  "
   ]
  },
  {
   "cell_type": "code",
   "execution_count": 210,
   "metadata": {},
   "outputs": [
    {
     "name": "stdout",
     "output_type": "stream",
     "text": [
      "  0.000001 seconds\n"
     ]
    },
    {
     "data": {
      "text/plain": [
       "2"
      ]
     },
     "metadata": {},
     "output_type": "display_data"
    }
   ],
   "source": [
    "@time begin\n",
    "    1 + 1\n",
    "end"
   ]
  },
  {
   "attachments": {},
   "cell_type": "markdown",
   "metadata": {},
   "source": [
    "Another example is `@assert`, which can be used for generating some statements if some conditions are not met."
   ]
  },
  {
   "cell_type": "code",
   "execution_count": 197,
   "metadata": {},
   "outputs": [
    {
     "ename": "AssertionError",
     "evalue": "AssertionError: v1 is not equal to v2",
     "output_type": "error",
     "traceback": [
      "AssertionError: v1 is not equal to v2\n",
      "\n",
      "Stacktrace:\n",
      " [1] top-level scope\n",
      "   @ ~/Documents/Teaching/Julia course 2023 Summer/Lec1/Julia_Lec_1_Compecon_XIng_Xu.ipynb:3"
     ]
    }
   ],
   "source": [
    "v1 = [1, 2, 3]\n",
    "v2 = [4, 5, 6]\n",
    "@assert v1 == v2 \"v1 is not equal to v2\""
   ]
  },
  {
   "cell_type": "code",
   "execution_count": 199,
   "metadata": {},
   "outputs": [],
   "source": [
    "# no statement is generated if the condition is met\n",
    "@assert v1 == v1 \"v1 is not equal to v1\""
   ]
  },
  {
   "attachments": {},
   "cell_type": "markdown",
   "metadata": {},
   "source": [
    "A couple other useful Macros:\n",
    "\n",
    "`@inbounds` Eliminates array bounds checking within expressions. \n",
    "\n",
    "`@inline` Performs inline Maths (more efficient).\n",
    "\n",
    "`@view`  Creates a data structure that acts like an array (it is a subtype of AbstractArray ), but the underlying data is actually part of another array. Often used to create a temporary array efficiently.\n",
    "\n",
    "For more, check [here](https://docs.julialang.org/en/v1/manual/metaprogramming/#man-macros)."
   ]
  },
  {
   "attachments": {},
   "cell_type": "markdown",
   "metadata": {},
   "source": [
    "### 1.6 Miscellaneous facts about Julia (under construction)\n",
    "\n",
    "Julia has a particular behavior when assigning an array to another. What is your guess for the result of the following code?"
   ]
  },
  {
   "cell_type": "code",
   "execution_count": null,
   "metadata": {},
   "outputs": [],
   "source": [
    "x = [3, 3]\n",
    "y = x\n",
    "y[1] = 6\n",
    "@show x"
   ]
  },
  {
   "attachments": {},
   "cell_type": "markdown",
   "metadata": {},
   "source": [
    "One might guess that the output will be \"[3, 3]\" as x is not changed. It is exactly what will happen in Python or Matlab. However, running it gives a seemingly surprising result."
   ]
  },
  {
   "cell_type": "code",
   "execution_count": 218,
   "metadata": {},
   "outputs": [
    {
     "name": "stdout",
     "output_type": "stream",
     "text": [
      "x = [6, 3]\n"
     ]
    },
    {
     "data": {
      "text/plain": [
       "2-element Vector{Int64}:\n",
       " 6\n",
       " 3"
      ]
     },
     "metadata": {},
     "output_type": "display_data"
    }
   ],
   "source": [
    "x = [3, 3]\n",
    "y = x\n",
    "y[1] = 6\n",
    "@show x"
   ]
  },
  {
   "cell_type": "code",
   "execution_count": 219,
   "metadata": {},
   "outputs": [
    {
     "name": "stdout",
     "output_type": "stream",
     "text": [
      "y = [6, 6]\n"
     ]
    },
    {
     "data": {
      "text/plain": [
       "2-element Vector{Int64}:\n",
       " 6\n",
       " 6"
      ]
     },
     "metadata": {},
     "output_type": "display_data"
    }
   ],
   "source": [
    "# also\n",
    "x[2] = 6\n",
    "@show y"
   ]
  },
  {
   "attachments": {},
   "cell_type": "markdown",
   "metadata": {},
   "source": [
    "The reason is that on the background of Python or Matlab. When you run `y = x`, they create a copy for x in the storage and make it y. However in Julia, `y = x` simply assigns y to the same array that x is assigned to. That's why changing either of them changes the other.\n",
    "\n",
    "There are two alternative ways if you want the same behavior as in Python or Matlab."
   ]
  },
  {
   "cell_type": "code",
   "execution_count": 221,
   "metadata": {},
   "outputs": [
    {
     "name": "stdout",
     "output_type": "stream",
     "text": [
      "x = [3, 3]\n"
     ]
    },
    {
     "data": {
      "text/plain": [
       "2-element Vector{Int64}:\n",
       " 3\n",
       " 3"
      ]
     },
     "metadata": {},
     "output_type": "display_data"
    }
   ],
   "source": [
    "x = [3, 3]\n",
    "y = copy(x)\n",
    "y[1] = 6\n",
    "@show x"
   ]
  },
  {
   "cell_type": "code",
   "execution_count": 220,
   "metadata": {},
   "outputs": [
    {
     "name": "stdout",
     "output_type": "stream",
     "text": [
      "x = [3, 3]\n"
     ]
    },
    {
     "data": {
      "text/plain": [
       "2-element Vector{Int64}:\n",
       " 3\n",
       " 3"
      ]
     },
     "metadata": {},
     "output_type": "display_data"
    }
   ],
   "source": [
    "x = [3, 3]\n",
    "y .= x #element-wise assignment dodges the problem\n",
    "y[1] = 6\n",
    "@show x"
   ]
  },
  {
   "attachments": {},
   "cell_type": "markdown",
   "metadata": {},
   "source": [
    "Either one of them essentially makes y and x to be assigned to \"different\" arrays in your storage. If you know what a \"pointer\" is in c++, they now simply point to different places."
   ]
  }
 ],
 "metadata": {
  "kernelspec": {
   "display_name": "Julia 1.7.2",
   "language": "julia",
   "name": "julia-1.7"
  },
  "language_info": {
   "file_extension": ".jl",
   "mimetype": "application/julia",
   "name": "julia",
   "version": "1.7.2"
  },
  "orig_nbformat": 4
 },
 "nbformat": 4,
 "nbformat_minor": 2
}
