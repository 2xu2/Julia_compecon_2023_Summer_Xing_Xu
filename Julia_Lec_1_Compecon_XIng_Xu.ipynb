{
 "cells": [
  {
   "attachments": {},
   "cell_type": "markdown",
   "metadata": {},
   "source": [
    "## Introduction to Julia on Computational Economics\n",
    "### Xing Xu, University of Minnesota, 2023 Summer"
   ]
  },
  {
   "attachments": {},
   "cell_type": "markdown",
   "metadata": {},
   "source": [
    "## Overview\n",
    "The purpose of the class is to get you familiarize with some basic dynamic programming (DP) problems in economics and train you to be comfortable with coding them in Julia.\n",
    "\n",
    "### Why DP?\n",
    "\n",
    " Dynamic programming is the key to solving modern economic models. Most macro models now are dynamic general equilibrium models. Knowing how to solve recursive models is in additional useful for searching, matching and even game theory (with sequential games). \n",
    "\n",
    " ### Why Julia? \n",
    "\n",
    " Julia is the most modern tool for computations. It preserves the efficiency and clarity of coding while providing astounding speed. For comparison, c++ and Fortran are as fast but coding in them requires a lot more work as basically everything has to be built from scratch. Another extreme is Stata, which is super easy to code in (say, reg y x), but is absurdly slow and extremely limited in its applications (can't even perform DP). \n",
    " \n",
    " Julia reaches a great balance and is perfectly suited for computational economics. You will see its beauty in action once you get comfortable with it.\n",
    "\n",
    "### Background knowledge\n",
    "I will list the backgrounds used that are considered as known. Additional knowledge will be specified when used.\n",
    "\n",
    "Math Preliminaries (undergraduate level knowledge is sufficient):\n",
    "* Linear algebra\n",
    "* Real analysis\n",
    "* Probability theory\n",
    "* Basic understanding of Markov Chains\n",
    "* Knowledge of basic optimization theory will be a plus (Sundaram \\<A First Course in Optimization Theory\\>)\n",
    "\n",
    "Economics:\n",
    "* Basic choice theory (Chapter 2 MWG) (Preferences, utility representation)\n",
    "* Basic consumer theory (Chapter 3 MWG) (Utility maximization)\n",
    "* Basic producer theory (Chapter 5 MWG) \n",
    "* An idea of Competitive Equilibrium and Welfare Theorems (Chapter 10 MWG)\n",
    "\n",
    "Julia (required reading): \n",
    "* Setup of Julia environment, [Quantecon 1](https://julia.quantecon.org/getting_started_julia/getting_started.html#)\n",
    "* Introduction to Julia [Quantecon 2](https://julia.quantecon.org/getting_started_julia/julia_by_example.html)\n",
    "* Julia Essentials [Quantecon 3](https://julia.quantecon.org/getting_started_julia/julia_essentials.html)\n",
    "* Arrays, Tuples, Ranges, and Other Fundamental Types [Quantecon 4](https://julia.quantecon.org/getting_started_julia/fundamental_types.html#)\n",
    "* Basic understanding is good: Introduction to Types and Generic Programming [Quantecon 5](https://julia.quantecon.org/getting_started_julia/introduction_to_types.html)\n",
    "\n",
    "Other good references:\n",
    "\n",
    "Notes: \n",
    "* [Dirk Krueger's Macroeconomic Theory notes](https://perhuaman.files.wordpress.com/2014/06/macrotheory-dirk-krueger.pdf)\n",
    "* [Tim Kehoe's notes on Blackwell sufficient conditions](http://users.econ.umn.edu/~tkehoe/classes/BlackwellsConditions.pdf)\n",
    "\n",
    "Books: \n",
    "* Adda & Cooper \\<Dynamic economics\\> (__strongly recommend__)\n",
    "* Stokey, Lucas with Prescott \\<Recursive methods in economic dynamics\\>\n",
    "* Ljungqvist & Sargent \\<Recursive Macroeconomic Theory\\>\n",
    "* Heer & Maußner [\\<Dynamic General Equilibrium Modeling\\>](https://link.springer.com/book/10.1007/978-3-540-85685-6)\n",
    "* Stachurski [\\<Economic Dynamics: Theory and Computation (Second Edition)\\>](https://johnstachurski.net/edtc)"
   ]
  },
  {
   "attachments": {},
   "cell_type": "markdown",
   "metadata": {},
   "source": [
    "### Syllabus:\n",
    "\n",
    "#### Lecture 1: Julia Fundamentals\n",
    "\n",
    "Assignment 1\n",
    "\n",
    "#### Lecture 2: A canonical Neo-classical growth model and glimpse into value function iteration (VFI)\n",
    "\n",
    "#### Lecture 3: McCall's Job search model\n",
    "\n",
    "#### Lecture 4: \n",
    "\n",
    "#### Lecture 5: "
   ]
  },
  {
   "attachments": {},
   "cell_type": "markdown",
   "metadata": {},
   "source": [
    "## Lecture 1: Julia Fundamentals\n",
    "\n",
    "This acts as a review for Lecture 1.1 - 1.5 for Julia on Quantecon. I will only focus on stuffs we will use for the following lectures. This lecture accompanies a succinct assignment to get you familiarized with writing in the language and playing with it on the Jupyter Notebook."
   ]
  },
  {
   "attachments": {},
   "cell_type": "markdown",
   "metadata": {},
   "source": [
    "### 1.1 Packages and Projects\n",
    "\n",
    "Working with packages is of vital importance in Julia. We use \"LinearAlgebra\" for matrix operations, \"Statistics\" for different distributions, \"Plots\" for, obviously, plots, etc. One thing you always need to keep in mind is how to download some packages. \n",
    "\n",
    "After downloading the essential packages you need, you have developed something called an \"environment\". For compatibility, version control and reproducibility reasons, one often wants to create individual environments for different files. \"Projects\" manages each individual local environments. It will create a project repository that usually contains a \"Project.toml\", a \"Manifest.toml\" and your code files.\n",
    "\n",
    "Now what are these exactly? Put this notebook into an individual folder and run the following line."
   ]
  },
  {
   "cell_type": "code",
   "execution_count": null,
   "metadata": {},
   "outputs": [],
   "source": [
    "import Pkg"
   ]
  },
  {
   "cell_type": "code",
   "execution_count": null,
   "metadata": {},
   "outputs": [],
   "source": [
    "Pkg.activate(@__DIR__)  # Activate a local environment \n",
    "Pkg.add(\"LinearAlgebra\")"
   ]
  },
  {
   "cell_type": "code",
   "execution_count": 22,
   "metadata": {},
   "outputs": [],
   "source": [
    "using Statistics"
   ]
  },
  {
   "attachments": {},
   "cell_type": "markdown",
   "metadata": {},
   "source": []
  }
 ],
 "metadata": {
  "kernelspec": {
   "display_name": "Julia 1.7.2",
   "language": "julia",
   "name": "julia-1.7"
  },
  "language_info": {
   "file_extension": ".jl",
   "mimetype": "application/julia",
   "name": "julia",
   "version": "1.7.2"
  },
  "orig_nbformat": 4
 },
 "nbformat": 4,
 "nbformat_minor": 2
}
